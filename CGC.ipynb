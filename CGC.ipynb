{
 "cells": [
  {
   "cell_type": "markdown",
   "metadata": {
    "colab_type": "text",
    "id": "pKlKV_a80QBr"
   },
   "source": [
    "# **Entendiendo el problema**\n",
    "\n",
    "Nuestra meta es identificar los circulos sociales de una persona y sus circulos sociales. Cada circulo es un subconjunto de sus amigos. Esto significa que podemos formular el problema de detección de circulos como un problema de agrupamiento de su ego-network.\n",
    "\n",
    "En la siguiente figura se muestra un único usuario *u* y formamos una red con sus amigos *vi*. Nos referiremos al usuario *u* como *ego* y a sus nodos *vi* como *alters*. La tarea es identificar los circulos a que cada *vi* pertenece. \n",
    "\n",
    "<img src=\"https://i.imgur.com/Ist45yG.png\" style=\"width:700px;\">"
   ]
  },
  {
   "cell_type": "markdown",
   "metadata": {
    "colab_type": "text",
    "id": "n1V24O1rR-g9"
   },
   "source": [
    "# **Instalar librerías**"
   ]
  },
  {
   "cell_type": "code",
   "execution_count": 1,
   "metadata": {
    "colab": {
     "base_uri": "https://localhost:8080/",
     "height": 85
    },
    "colab_type": "code",
    "id": "LVJ0XsMzR93e",
    "outputId": "4f120778-7d95-4d05-a800-bac86f811100"
   },
   "outputs": [
    {
     "name": "stdout",
     "output_type": "stream",
     "text": [
      "\u001b[33mDEPRECATION: Python 2.7 will reach the end of its life on January 1st, 2020. Please upgrade your Python as Python 2.7 won't be maintained after that date. A future version of pip will drop support for Python 2.7.\u001b[0m\n",
      "Requirement already satisfied: python-igraph in /media/juanmarcon/IDisk/Proyecto/python2/lib/python2.7/site-packages (0.7.1.post6)\n",
      "\u001b[33mDEPRECATION: Python 2.7 will reach the end of its life on January 1st, 2020. Please upgrade your Python as Python 2.7 won't be maintained after that date. A future version of pip will drop support for Python 2.7.\u001b[0m\n",
      "Requirement already satisfied: cairocffi in /media/juanmarcon/IDisk/Proyecto/python2/lib/python2.7/site-packages (0.9.0)\n",
      "Requirement already satisfied: cffi>=1.1.0 in /media/juanmarcon/IDisk/Proyecto/python2/lib/python2.7/site-packages (from cairocffi) (1.12.3)\n",
      "Requirement already satisfied: pycparser in /media/juanmarcon/IDisk/Proyecto/python2/lib/python2.7/site-packages (from cffi>=1.1.0->cairocffi) (2.19)\n",
      "\u001b[33mDEPRECATION: Python 2.7 will reach the end of its life on January 1st, 2020. Please upgrade your Python as Python 2.7 won't be maintained after that date. A future version of pip will drop support for Python 2.7.\u001b[0m\n",
      "Requirement already satisfied: networkx in /media/juanmarcon/IDisk/Proyecto/python2/lib/python2.7/site-packages (2.2)\n",
      "Requirement already satisfied: decorator>=4.3.0 in /media/juanmarcon/IDisk/Proyecto/python2/lib/python2.7/site-packages (from networkx) (4.4.0)\n"
     ]
    }
   ],
   "source": [
    "!pip install numpy\n",
    "!pip install pandas\n",
    "!pip install scikit-learn\n",
    "!pip install matplotlib\n",
    "!pip install python-igraph\n",
    "!pip install cairocffi\n",
    "!pip install networkx"
   ]
  },
  {
   "cell_type": "markdown",
   "metadata": {
    "colab_type": "text",
    "id": "Zj1mWBVeSHOd"
   },
   "source": [
    "# **Importar librerías**"
   ]
  },
  {
   "cell_type": "code",
   "execution_count": 1,
   "metadata": {
    "colab": {},
    "colab_type": "code",
    "id": "wY3gat7tRCmw"
   },
   "outputs": [],
   "source": [
    "import numpy as np\n",
    "from utils_notebook import *\n",
    "%matplotlib inline\n",
    "import pandas as pd\n",
    "from sklearn.datasets import *\n",
    "import matplotlib.pyplot as plt"
   ]
  },
  {
   "cell_type": "markdown",
   "metadata": {
    "colab_type": "text",
    "id": "HAK9j_E0TR1A"
   },
   "source": [
    "## Leer el *path* al dataset\n",
    "\n",
    "Leemos el dataset como un Pandas Dataframe para analizar los datos."
   ]
  },
  {
   "cell_type": "code",
   "execution_count": 2,
   "metadata": {
    "colab": {
     "base_uri": "https://localhost:8080/",
     "height": 221
    },
    "colab_type": "code",
    "id": "mQKJG0umRCm1",
    "outputId": "09571a23-73c9-482b-e26b-f995e96daf71"
   },
   "outputs": [
    {
     "data": {
      "text/html": [
       "<div>\n",
       "<style scoped>\n",
       "    .dataframe tbody tr th:only-of-type {\n",
       "        vertical-align: middle;\n",
       "    }\n",
       "\n",
       "    .dataframe tbody tr th {\n",
       "        vertical-align: top;\n",
       "    }\n",
       "\n",
       "    .dataframe thead th {\n",
       "        text-align: right;\n",
       "    }\n",
       "</style>\n",
       "<table border=\"1\" class=\"dataframe\">\n",
       "  <thead>\n",
       "    <tr style=\"text-align: right;\">\n",
       "      <th></th>\n",
       "      <th># FromNodeId</th>\n",
       "      <th>ToNodeId</th>\n",
       "    </tr>\n",
       "  </thead>\n",
       "  <tbody>\n",
       "    <tr>\n",
       "      <th>0</th>\n",
       "      <td>1</td>\n",
       "      <td>2</td>\n",
       "    </tr>\n",
       "    <tr>\n",
       "      <th>1</th>\n",
       "      <td>1</td>\n",
       "      <td>3</td>\n",
       "    </tr>\n",
       "    <tr>\n",
       "      <th>2</th>\n",
       "      <td>1</td>\n",
       "      <td>4</td>\n",
       "    </tr>\n",
       "    <tr>\n",
       "      <th>3</th>\n",
       "      <td>1</td>\n",
       "      <td>5</td>\n",
       "    </tr>\n",
       "    <tr>\n",
       "      <th>4</th>\n",
       "      <td>1</td>\n",
       "      <td>6</td>\n",
       "    </tr>\n",
       "  </tbody>\n",
       "</table>\n",
       "</div>"
      ],
      "text/plain": [
       "   # FromNodeId  ToNodeId\n",
       "0             1         2\n",
       "1             1         3\n",
       "2             1         4\n",
       "3             1         5\n",
       "4             1         6"
      ]
     },
     "execution_count": 2,
     "metadata": {},
     "output_type": "execute_result"
    }
   ],
   "source": [
    "path = './dataset/com-youtube.ungraph.txt'\n",
    "data = pd.read_csv(path, sep='\\t', skiprows=3)\n",
    "data.head()"
   ]
  },
  {
   "cell_type": "markdown",
   "metadata": {
    "colab_type": "text",
    "id": "fSv2h8A8TylX"
   },
   "source": [
    "Observamos que el dataset consta de dos columnas que nos indica las conexiones entre nodos."
   ]
  },
  {
   "cell_type": "code",
   "execution_count": 3,
   "metadata": {},
   "outputs": [
    {
     "data": {
      "text/plain": [
       "Index([u'# FromNodeId', u'ToNodeId'], dtype='object')"
      ]
     },
     "execution_count": 3,
     "metadata": {},
     "output_type": "execute_result"
    }
   ],
   "source": [
    "data.columns"
   ]
  },
  {
   "cell_type": "markdown",
   "metadata": {
    "colab_type": "text",
    "id": "fSv2h8A8TylX"
   },
   "source": [
    "Además nos damos cuenta que hay 2987624 conexiones."
   ]
  },
  {
   "cell_type": "code",
   "execution_count": 4,
   "metadata": {},
   "outputs": [
    {
     "name": "stdout",
     "output_type": "stream",
     "text": [
      "('Hay', 2987624, 'conexiones en el dataset de youtube')\n"
     ]
    }
   ],
   "source": [
    "print(\"Hay\", data.to_numpy().shape[0], \"conexiones en el dataset de youtube\")"
   ]
  },
  {
   "cell_type": "markdown",
   "metadata": {
    "colab_type": "text",
    "id": "fSv2h8A8TylX"
   },
   "source": [
    "Es preciso aclarar, luego de ver las dimensiones de este dataset que, debido a la cantidad de datos para entrenar los algoritmos, estos pueden presentar demoras."
   ]
  },
  {
   "cell_type": "code",
   "execution_count": 5,
   "metadata": {},
   "outputs": [
    {
     "data": {
      "text/html": [
       "<div>\n",
       "<style scoped>\n",
       "    .dataframe tbody tr th:only-of-type {\n",
       "        vertical-align: middle;\n",
       "    }\n",
       "\n",
       "    .dataframe tbody tr th {\n",
       "        vertical-align: top;\n",
       "    }\n",
       "\n",
       "    .dataframe thead th {\n",
       "        text-align: right;\n",
       "    }\n",
       "</style>\n",
       "<table border=\"1\" class=\"dataframe\">\n",
       "  <thead>\n",
       "    <tr style=\"text-align: right;\">\n",
       "      <th></th>\n",
       "      <th># FromNodeId</th>\n",
       "      <th>ToNodeId</th>\n",
       "    </tr>\n",
       "  </thead>\n",
       "  <tbody>\n",
       "    <tr>\n",
       "      <th>count</th>\n",
       "      <td>2.987624e+06</td>\n",
       "      <td>2.987624e+06</td>\n",
       "    </tr>\n",
       "    <tr>\n",
       "      <th>mean</th>\n",
       "      <td>1.875488e+05</td>\n",
       "      <td>4.128765e+05</td>\n",
       "    </tr>\n",
       "    <tr>\n",
       "      <th>std</th>\n",
       "      <td>2.608200e+05</td>\n",
       "      <td>3.392837e+05</td>\n",
       "    </tr>\n",
       "    <tr>\n",
       "      <th>min</th>\n",
       "      <td>1.000000e+00</td>\n",
       "      <td>2.000000e+00</td>\n",
       "    </tr>\n",
       "    <tr>\n",
       "      <th>25%</th>\n",
       "      <td>1.181500e+04</td>\n",
       "      <td>1.093080e+05</td>\n",
       "    </tr>\n",
       "    <tr>\n",
       "      <th>50%</th>\n",
       "      <td>7.680000e+04</td>\n",
       "      <td>3.070595e+05</td>\n",
       "    </tr>\n",
       "    <tr>\n",
       "      <th>75%</th>\n",
       "      <td>2.342970e+05</td>\n",
       "      <td>6.864020e+05</td>\n",
       "    </tr>\n",
       "    <tr>\n",
       "      <th>max</th>\n",
       "      <td>1.157804e+06</td>\n",
       "      <td>1.157827e+06</td>\n",
       "    </tr>\n",
       "  </tbody>\n",
       "</table>\n",
       "</div>"
      ],
      "text/plain": [
       "       # FromNodeId      ToNodeId\n",
       "count  2.987624e+06  2.987624e+06\n",
       "mean   1.875488e+05  4.128765e+05\n",
       "std    2.608200e+05  3.392837e+05\n",
       "min    1.000000e+00  2.000000e+00\n",
       "25%    1.181500e+04  1.093080e+05\n",
       "50%    7.680000e+04  3.070595e+05\n",
       "75%    2.342970e+05  6.864020e+05\n",
       "max    1.157804e+06  1.157827e+06"
      ]
     },
     "execution_count": 5,
     "metadata": {},
     "output_type": "execute_result"
    }
   ],
   "source": [
    "data.describe()"
   ]
  },
  {
   "cell_type": "markdown",
   "metadata": {
    "colab_type": "text",
    "id": "fSv2h8A8TylX"
   },
   "source": [
    "Más información acerca de cada columna. El valor máximo, menor, la media, la desviación estandar y la cantidad de datos\n",
    "\n",
    "# Tratamiento de datos\n",
    "\n",
    "Convertimos el dataframe a un Ndarray de numpy para pasar estos datos a los algoritmos."
   ]
  },
  {
   "cell_type": "code",
   "execution_count": 6,
   "metadata": {
    "colab": {},
    "colab_type": "code",
    "id": "yKdA8CXOTyIc"
   },
   "outputs": [],
   "source": [
    "np_data = data.to_numpy()"
   ]
  },
  {
   "cell_type": "markdown",
   "metadata": {
    "colab_type": "text",
    "id": "FIMAa0NGYeJW"
   },
   "source": [
    "## Centralidad por intermediación"
   ]
  },
  {
   "cell_type": "markdown",
   "metadata": {
    "colab_type": "text",
    "id": "JtguKrRkWaEb"
   },
   "source": [
    "La centralidad por intermedicación es una medidad de centralidad en un grafo que se baja en los caminos más cortos. Por cada par de vertices en un grafo conectado, existe al menos un camino corto entre dos vertices, de manera que el numero de aristas que se atraviesa en un camino (para grafos no ponderados)o la suma de los pesos de las aristas (para grafos con pesos) es minimizada. La centralidad por intermediación para cada vertice es el numero de estos caminos cortos que pasan a traves de este vertice.\n",
    "\n",
    "$$g(v) = \\sum_{s\\neq v \\neq t} \\frac{\\sigma_{st}(v)}{\\sigma_{st}}$$\n",
    "\n",
    "Donde $\\sigma_{st}$ es el numero total de caminos más cortos desde el nodo $s$ y $\\sigma_{st}(v)$ es el número de caminos que pasan a través de $v$\n",
    "\n",
    "<img src=\"https://toreopsahl.wordpress.com/files/2009/01/fig1_betweenness3.gif\" style=\"width:300px;\">\n"
   ]
  },
  {
   "cell_type": "code",
   "execution_count": 7,
   "metadata": {
    "colab": {},
    "colab_type": "code",
    "id": "8fjKh0sjnSlw"
   },
   "outputs": [
    {
     "name": "stdout",
     "output_type": "stream",
     "text": [
      "('Los nodos mas representatios son:', array([1, 2, 3, 4]))\n"
     ]
    }
   ],
   "source": [
    "most_important(np_data[:1000], 'CGC') # trimming"
   ]
  },
  {
   "cell_type": "code",
   "execution_count": null,
   "metadata": {},
   "outputs": [],
   "source": []
  }
 ],
 "metadata": {
  "accelerator": "GPU",
  "colab": {
   "collapsed_sections": [],
   "name": "network_analysis.ipynb",
   "provenance": [],
   "toc_visible": true,
   "version": "0.3.2"
  },
  "kernelspec": {
   "display_name": "Python 2",
   "language": "python",
   "name": "python2"
  },
  "language_info": {
   "codemirror_mode": {
    "name": "ipython",
    "version": 2
   },
   "file_extension": ".py",
   "mimetype": "text/x-python",
   "name": "python",
   "nbconvert_exporter": "python",
   "pygments_lexer": "ipython2",
   "version": "2.7.12"
  }
 },
 "nbformat": 4,
 "nbformat_minor": 1
}
